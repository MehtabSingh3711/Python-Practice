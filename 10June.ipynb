{
 "cells": [
  {
   "cell_type": "markdown",
   "metadata": {},
   "source": [
    "### 1.Lists\n",
    "###### Lists are ordered collections of items, which can be of different data types. Lists can be changed, meaning you can modify, add, or remove elements after creating the list."
   ]
  },
  {
   "cell_type": "code",
   "execution_count": 1,
   "metadata": {},
   "outputs": [
    {
     "name": "stdout",
     "output_type": "stream",
     "text": [
      "apple\n",
      "['apple', 'orange', 'cherry']\n",
      "['apple', 'orange', 'cherry', 'grape']\n",
      "['apple', 'cherry', 'grape']\n"
     ]
    }
   ],
   "source": [
    "# Creating a list\n",
    "fruits = ['apple', 'banana', 'cherry']\n",
    "\n",
    "# Accessing elements\n",
    "print(fruits[0])  \n",
    "\n",
    "# Modifying elements\n",
    "fruits[1] = 'orange'\n",
    "print(fruits)  \n",
    "\n",
    "# Adding elements\n",
    "fruits.append('grape')\n",
    "print(fruits)  \n",
    "\n",
    "# Removing elements\n",
    "fruits.remove('orange')\n",
    "print(fruits)  "
   ]
  },
  {
   "cell_type": "markdown",
   "metadata": {},
   "source": [
    "### 2. Sets\n",
    "###### Sets are unordered collections of unique elements. Sets can be edited, but they cannot contain duplicate values."
   ]
  },
  {
   "cell_type": "code",
   "execution_count": 2,
   "metadata": {},
   "outputs": [
    {
     "name": "stdout",
     "output_type": "stream",
     "text": [
      "{'orange', 'banana', 'apple', 'cherry'}\n",
      "{'orange', 'apple', 'cherry'}\n",
      "{1, 2, 3, 4, 5}\n"
     ]
    }
   ],
   "source": [
    "# Creating a set\n",
    "fruits = {'apple', 'banana', 'cherry'}\n",
    "\n",
    "# Adding an element\n",
    "fruits.add('orange')\n",
    "print(fruits) \n",
    "\n",
    "# Removing an element\n",
    "fruits.remove('banana')\n",
    "print(fruits)  \n",
    "\n",
    "# Set operations\n",
    "set1 = {1, 2, 3}\n",
    "set2 = {3, 4, 5}\n",
    "union_set = set1.union(set2)\n",
    "print(union_set)  "
   ]
  },
  {
   "cell_type": "markdown",
   "metadata": {},
   "source": [
    "### 3. Tuples\n",
    "###### Tuples are ordered collections of elements, similar to lists. However, tuples are immutable, meaning you cannot modify, add, or remove elements after creating the tuple."
   ]
  },
  {
   "cell_type": "code",
   "execution_count": 3,
   "metadata": {},
   "outputs": [
    {
     "name": "stdout",
     "output_type": "stream",
     "text": [
      "apple\n",
      "('apple', 'banana', 'cherry', 'carrot', 'potato')\n"
     ]
    }
   ],
   "source": [
    "# Creating a tuple\n",
    "fruits = ('apple', 'banana', 'cherry')\n",
    "\n",
    "# Accessing elements\n",
    "print(fruits[0]) \n",
    "\n",
    "# Tuples are immutable\n",
    "# fruits[1] = 'orange'  # This will raise a TypeError\n",
    "\n",
    "# Concatenating tuples\n",
    "vegetables = ('carrot', 'potato')\n",
    "all_items = fruits + vegetables\n",
    "print(all_items)  "
   ]
  },
  {
   "cell_type": "markdown",
   "metadata": {},
   "source": [
    "### 4. Dictionaries\n",
    "###### Dictionaries are unordered collections of key-value pairs. Dictionaries are mutable, and keys must be unique and immutable (such as strings, numbers, or tuples)."
   ]
  },
  {
   "cell_type": "code",
   "execution_count": 4,
   "metadata": {},
   "outputs": [
    {
     "name": "stdout",
     "output_type": "stream",
     "text": [
      "Alice\n",
      "{'name': 'Alice', 'age': 26, 'city': 'New York'}\n",
      "{'name': 'Alice', 'age': 26, 'city': 'New York', 'email': 'alice@example.com'}\n",
      "{'name': 'Alice', 'age': 26, 'email': 'alice@example.com'}\n"
     ]
    }
   ],
   "source": [
    "# Creating a dictionary\n",
    "person = {'name': 'Alice', 'age': 25, 'city': 'New York'}\n",
    "\n",
    "# Accessing values\n",
    "print(person['name'])  \n",
    "\n",
    "# Modifying values\n",
    "person['age'] = 26\n",
    "print(person) \n",
    "\n",
    "# Adding new key-value pairs\n",
    "person['email'] = 'alice@example.com'\n",
    "print(person)  \n",
    "\n",
    "# Removing key-value pairs\n",
    "del person['city']\n",
    "print(person)  "
   ]
  },
  {
   "cell_type": "markdown",
   "metadata": {},
   "source": [
    "## PRACTICE QUESTIONS"
   ]
  },
  {
   "cell_type": "markdown",
   "metadata": {},
   "source": [
    "1. Write a Python program to select the odd numbers from a list."
   ]
  },
  {
   "cell_type": "code",
   "execution_count": 11,
   "metadata": {},
   "outputs": [
    {
     "name": "stdout",
     "output_type": "stream",
     "text": [
      "Original list: [4, 3, 7, 10, 11, -2, 15, 20, 25]\n",
      "Odd numbers: [3, 7, 11, 15, 25]\n"
     ]
    }
   ],
   "source": [
    "def odd_numbers(list):\n",
    "    odd_numbers = []\n",
    "    for num in list:\n",
    "        if num % 2!= 0:\n",
    "            odd_numbers.append(num)\n",
    "    return odd_numbers\n",
    "\n",
    "numbers = [4, 3, 7, 10, 11, -2, 15, 20, 25]\n",
    "print(\"Original list:\", numbers)\n",
    "print(\"Odd numbers:\", odd_numbers(numbers))"
   ]
  },
  {
   "cell_type": "markdown",
   "metadata": {},
   "source": [
    "2. Write a Python program to find common items in two lists.\n",
    "\n"
   ]
  },
  {
   "cell_type": "code",
   "execution_count": 12,
   "metadata": {},
   "outputs": [
    {
     "name": "stdout",
     "output_type": "stream",
     "text": [
      "{'Green', 'White'}\n"
     ]
    }
   ],
   "source": [
    "color1 = \"Red\", \"Green\", \"Orange\", \"White\"\n",
    "color2 = \"Black\", \"Green\", \"White\", \"Pink\"\n",
    "\n",
    "print(set(color1) & set(color2))\n"
   ]
  },
  {
   "cell_type": "markdown",
   "metadata": {},
   "source": [
    "3. Write a Python program to select an item randomly from a list."
   ]
  },
  {
   "cell_type": "code",
   "execution_count": 13,
   "metadata": {},
   "outputs": [
    {
     "name": "stdout",
     "output_type": "stream",
     "text": [
      "Blue\n"
     ]
    }
   ],
   "source": [
    "import random\n",
    "color_list = ['Red', 'Blue', 'Green', 'White', 'Black']\n",
    "print(random.choice(color_list))\n"
   ]
  },
  {
   "cell_type": "markdown",
   "metadata": {},
   "source": [
    "4. Write a Python program to check if each number is prime in a given list of numbers. Return True if all numbers are prime otherwise False."
   ]
  },
  {
   "cell_type": "code",
   "execution_count": 15,
   "metadata": {},
   "outputs": [
    {
     "name": "stdout",
     "output_type": "stream",
     "text": [
      "Original list of numbers:\n",
      "[0, 3, 4, 7, 9]\n",
      "False\n",
      "\n",
      "Original list of numbers:\n",
      "[3, 5, 7, 13]\n",
      "True\n",
      "\n",
      "Original list of numbers:\n",
      "[1, 5, 3]\n",
      "False\n"
     ]
    }
   ],
   "source": [
    "def test(nums):\n",
    "    return all(is_prime(i) for i in nums)\n",
    "\n",
    "def is_prime(n):\n",
    "    if (n == 1):\n",
    "        return False\n",
    "    elif (n == 2):\n",
    "        return True\n",
    "    else:\n",
    "        for x in range(2, n):\n",
    "            if (n % x == 0):\n",
    "                return False\n",
    "        return True\n",
    "\n",
    "nums = [0, 3, 4, 7, 9]\n",
    "print(\"Original list of numbers:\")\n",
    "print(nums)\n",
    "print(test(nums))\n",
    "\n",
    "nums = [3, 5, 7, 13]\n",
    "print(\"\\nOriginal list of numbers:\")\n",
    "print(nums)\n",
    "print(test(nums))\n",
    "\n",
    "nums = [1, 5, 3]\n",
    "print(\"\\nOriginal list of numbers:\")\n",
    "print(nums)\n",
    "print(test(nums)) \n"
   ]
  },
  {
   "cell_type": "markdown",
   "metadata": {},
   "source": [
    "5. Write a Python program to generate and print a list of the first and last 5 elements where the values are square numbers between 1 and 30 (both included)."
   ]
  },
  {
   "cell_type": "code",
   "execution_count": 18,
   "metadata": {},
   "outputs": [
    {
     "name": "stdout",
     "output_type": "stream",
     "text": [
      "First 5:  [1, 4, 9, 16, 25]\n",
      "Last 5:  [676, 729, 784, 841, 900]\n"
     ]
    }
   ],
   "source": [
    "def printValues():\n",
    "    l = list()\n",
    "    for i in range(1, 31):\n",
    "        l.append(i**2)\n",
    "    print(\"First 5: \" , l[:5])\n",
    "    print(\"Last 5: \" , l[-5:])\n",
    "\n",
    "printValues()\n"
   ]
  },
  {
   "cell_type": "markdown",
   "metadata": {},
   "source": [
    "6. Write a Python program to find the maximum and minimum values in a set."
   ]
  },
  {
   "cell_type": "code",
   "execution_count": 19,
   "metadata": {},
   "outputs": [
    {
     "name": "stdout",
     "output_type": "stream",
     "text": [
      "Original set elements:\n",
      "{2, 3, 20, 5, 10, 15}\n",
      "<class 'set'>\n",
      "\n",
      "Maximum value of the said set:\n",
      "20\n",
      "\n",
      "Minimum value of the said set:\n",
      "2\n"
     ]
    }
   ],
   "source": [
    "set = {5, 10, 3, 15, 2, 20}\n",
    "\n",
    "print(\"Original set elements:\")\n",
    "print(set)\n",
    "print(type(set))\n",
    "\n",
    "print(\"\\nMaximum value of the said set:\")\n",
    "print(max(set))\n",
    "\n",
    "print(\"\\nMinimum value of the said set:\")\n",
    "print(min(set)) \n"
   ]
  },
  {
   "cell_type": "markdown",
   "metadata": {},
   "source": [
    "7. Write a Python program to find the length of a set."
   ]
  },
  {
   "cell_type": "code",
   "execution_count": 24,
   "metadata": {},
   "outputs": [
    {
     "name": "stdout",
     "output_type": "stream",
     "text": [
      "Original set elements:\n",
      "{2, 3, 20, 5, 10, 15}\n",
      "<class 'set'>\n",
      "\n",
      "Length of the said set:\n",
      "6\n",
      "Original set elements:\n",
      "{5}\n",
      "<class 'set'>\n",
      "\n",
      "Length of the said set:\n",
      "1\n"
     ]
    }
   ],
   "source": [
    "setn = {5, 10, 3, 15, 2, 20}\n",
    "print(\"Original set elements:\")\n",
    "print(setn)\n",
    "print(type(setn))\n",
    "print(\"\\nLength of the said set:\")\n",
    "print(len(setn))\n",
    "\n",
    "setn = {5, 5, 5, 5, 5, 5}\n",
    "print(\"Original set elements:\")\n",
    "print(setn)\n",
    "print(type(setn))\n",
    "print(\"\\nLength of the said set:\")\n",
    "print(len(setn))\n"
   ]
  },
  {
   "cell_type": "markdown",
   "metadata": {},
   "source": [
    "8. Write a Python program to check if a given value is present in a set or not."
   ]
  },
  {
   "cell_type": "code",
   "execution_count": 26,
   "metadata": {},
   "outputs": [
    {
     "name": "stdout",
     "output_type": "stream",
     "text": [
      "Original set (nums):  {1, 3, 5, 7, 9, 11} \n",
      "\n",
      "Test if 6 exists in nums:\n",
      "False\n",
      "Test if 7 exists in nums:\n",
      "True\n",
      "Test if 11 exists in nums:\n",
      "True\n",
      "Test if 0 exists in nums:\n",
      "False\n"
     ]
    }
   ],
   "source": [
    "nums = {1, 3, 5, 7, 9, 11}\n",
    "\n",
    "print(\"Original set (nums): \", nums, \"\\n\")\n",
    "\n",
    "print(\"Test if 6 exists in nums:\")\n",
    "print(6 in nums)\n",
    "\n",
    "print(\"Test if 7 exists in nums:\")\n",
    "print(7 in nums)\n",
    "\n",
    "print(\"Test if 11 exists in nums:\")\n",
    "print(11 in nums)\n",
    "\n",
    "print(\"Test if 0 exists in nums:\")\n",
    "print(0 in nums)"
   ]
  },
  {
   "cell_type": "markdown",
   "metadata": {},
   "source": [
    "9. Write a Python program to check if two given sets have no elements in common."
   ]
  },
  {
   "cell_type": "code",
   "execution_count": 27,
   "metadata": {},
   "outputs": [
    {
     "name": "stdout",
     "output_type": "stream",
     "text": [
      "Original set elements:\n",
      "{1, 2, 3, 4}\n",
      "{4, 5, 6, 7}\n",
      "{8}\n",
      "\n",
      "Confirm two given sets have no element(s) in common:\n",
      "\n",
      "Compare x and y:\n",
      "False\n",
      "\n",
      "Compare x and z:\n",
      "True\n",
      "\n",
      "Compare y and z:\n",
      "True\n"
     ]
    }
   ],
   "source": [
    "x = {1, 2, 3, 4}\n",
    "y = {4, 5, 6, 7}\n",
    "z = {8}\n",
    "\n",
    "print(\"Original set elements:\")\n",
    "print(x)\n",
    "print(y)\n",
    "print(z)\n",
    "\n",
    "print(\"\\nConfirm two given sets have no element(s) in common:\")\n",
    "print(\"\\nCompare x and y:\")\n",
    "print(x.isdisjoint(y))\n",
    "print(\"\\nCompare x and z:\")\n",
    "print(z.isdisjoint(x))\n",
    "print(\"\\nCompare y and z:\")\n",
    "print(y.isdisjoint(z)) \n"
   ]
  },
  {
   "cell_type": "markdown",
   "metadata": {},
   "source": [
    "10. Write a Python program to remove all elements from a given set."
   ]
  },
  {
   "cell_type": "code",
   "execution_count": 28,
   "metadata": {},
   "outputs": [
    {
     "name": "stdout",
     "output_type": "stream",
     "text": [
      "Original set elements:\n",
      "{'Green', 'White', 'Red', 'Black'}\n",
      "\n",
      "After removing all elements of the said set.\n",
      "set()\n"
     ]
    }
   ],
   "source": [
    "set = {\"Red\", \"Green\", \"Black\", \"White\"}\n",
    "print(\"Original set elements:\")\n",
    "print(set)\n",
    "print(\"\\nAfter removing all elements of the said set.\")\n",
    "set.clear()\n",
    "print(set) \n"
   ]
  },
  {
   "cell_type": "markdown",
   "metadata": {},
   "source": [
    "11. Write a Python program to create a tuple of numbers and print one item."
   ]
  },
  {
   "cell_type": "code",
   "execution_count": 29,
   "metadata": {},
   "outputs": [
    {
     "name": "stdout",
     "output_type": "stream",
     "text": [
      "(5, 10, 15, 20, 25)\n",
      "(5,)\n"
     ]
    }
   ],
   "source": [
    "tuple = 5, 10, 15, 20, 25\n",
    "# Print the contents of the 'tuplex' tuple\n",
    "print(tuple)\n",
    "\n",
    "tuple = 5,\n",
    "# Print the contents of the 'tuplex' tuple\n",
    "print(tuple)\n"
   ]
  },
  {
   "cell_type": "markdown",
   "metadata": {},
   "source": [
    "12. Write a Python program to find repeated items in a tuple."
   ]
  },
  {
   "cell_type": "code",
   "execution_count": 30,
   "metadata": {},
   "outputs": [
    {
     "name": "stdout",
     "output_type": "stream",
     "text": [
      "(2, 4, 5, 6, 2, 3, 4, 4, 7)\n",
      "3\n"
     ]
    }
   ],
   "source": [
    "# Create a tuple containing a sequence of numbers\n",
    "tuplex = 2, 4, 5, 6, 2, 3, 4, 4, 7\n",
    "# Print the contents of the 'tuplex' tuple\n",
    "print(tuplex)\n",
    "\n",
    "# Count the number of times the value 4 appears in the 'tuplex' tuple\n",
    "count = tuplex.count(4)\n",
    "# Print the count of how many times 4 appears\n",
    "print(count) \n"
   ]
  },
  {
   "cell_type": "markdown",
   "metadata": {},
   "source": [
    "13. Write a Python program to convert a tuple to a dictionary."
   ]
  },
  {
   "cell_type": "code",
   "execution_count": 33,
   "metadata": {},
   "outputs": [
    {
     "name": "stdout",
     "output_type": "stream",
     "text": [
      "{'w': 2, 'r': 3}\n"
     ]
    }
   ],
   "source": [
    "# Create a tuple containing nested tuples, where each inner tuple consists of two elements.\n",
    "tuplex = ((2, \"w\"), (3, \"r\"))\n",
    "\n",
    "result_dict = dict((y, x) for x, y in tuplex)\n",
    "\n",
    "# Print the resulting dictionary.\n",
    "print(result_dict) "
   ]
  },
  {
   "cell_type": "markdown",
   "metadata": {},
   "source": [
    "14. Write a Python program to unzip a list of tuples into individual lists."
   ]
  },
  {
   "cell_type": "code",
   "execution_count": 34,
   "metadata": {},
   "outputs": [
    {
     "name": "stdout",
     "output_type": "stream",
     "text": [
      "[(1, 3, 8), (2, 4, 9)]\n"
     ]
    }
   ],
   "source": [
    "# Create a list of tuples, where each tuple contains two elements.\n",
    "l = [(1, 2), (3, 4), (8, 9)]\n",
    "\n",
    "result = list(zip(*l))\n",
    "\n",
    "# Print the result, which is a list of two tuples formed by zipping the original tuples.\n",
    "print(result)"
   ]
  },
  {
   "cell_type": "markdown",
   "metadata": {},
   "source": [
    "15. Write a Python program to reverse a tuple."
   ]
  },
  {
   "cell_type": "code",
   "execution_count": 38,
   "metadata": {},
   "outputs": [
    {
     "name": "stdout",
     "output_type": "stream",
     "text": [
      "(15, 14, 13, 12, 11, 10)\n"
     ]
    }
   ],
   "source": [
    "def reverse_tuple(tuples):\n",
    "    return tuples[::-1]\n",
    "\n",
    "tuples = (10, 11, 12, 13, 14, 15)\n",
    "print(reverse_tuple(tuples)) "
   ]
  },
  {
   "cell_type": "markdown",
   "metadata": {},
   "source": [
    "16. Write a Python program to check whether a given key already exists in a dictionary."
   ]
  },
  {
   "cell_type": "code",
   "execution_count": 39,
   "metadata": {},
   "outputs": [
    {
     "name": "stdout",
     "output_type": "stream",
     "text": [
      "Key is present in the dictionary\n",
      "Key is not present in the dictionary\n"
     ]
    }
   ],
   "source": [
    "d = {1: 10, 2: 20, 3: 30, 4: 40, 5: 50, 6: 60}\n",
    "\n",
    "def is_key_present(x):\n",
    "    if x in d:\n",
    "        print('Key is present in the dictionary')\n",
    "    else:\n",
    "        print('Key is not present in the dictionary')\n",
    "\n",
    "is_key_present(5)\n",
    "is_key_present(9) \n"
   ]
  },
  {
   "cell_type": "markdown",
   "metadata": {},
   "source": [
    "17. Write a Python script to print a dictionary where the keys are numbers between 1 and 15 (both included) and the values are the square of the keys."
   ]
  },
  {
   "cell_type": "code",
   "execution_count": 40,
   "metadata": {},
   "outputs": [
    {
     "name": "stdout",
     "output_type": "stream",
     "text": [
      "{1: 1, 2: 4, 3: 9, 4: 16, 5: 25, 6: 36, 7: 49, 8: 64, 9: 81, 10: 100, 11: 121, 12: 144, 13: 169, 14: 196, 15: 225}\n"
     ]
    }
   ],
   "source": [
    "d = dict()\n",
    "for x in range(1, 16):\n",
    "    d[x] = x ** 2\n",
    "\n",
    "print(d)"
   ]
  },
  {
   "cell_type": "markdown",
   "metadata": {},
   "source": [
    "18. Write a Python script to merge two Python dictionaries."
   ]
  },
  {
   "cell_type": "code",
   "execution_count": 41,
   "metadata": {},
   "outputs": [
    {
     "name": "stdout",
     "output_type": "stream",
     "text": [
      "{'a': 100, 'b': 200, 'x': 300, 'y': 200}\n"
     ]
    }
   ],
   "source": [
    "d1 = {'a': 100, 'b': 200}\n",
    "d2 = {'x': 300, 'y': 200}\n",
    "d = d1.copy()\n",
    "d.update(d2)\n",
    "print(d) "
   ]
  },
  {
   "cell_type": "markdown",
   "metadata": {},
   "source": [
    "19. Write a Python program to map two lists into a dictionary."
   ]
  },
  {
   "cell_type": "code",
   "execution_count": 42,
   "metadata": {},
   "outputs": [
    {
     "name": "stdout",
     "output_type": "stream",
     "text": [
      "{'red': '#FF0000', 'green': '#008000', 'blue': '#0000FF'}\n"
     ]
    }
   ],
   "source": [
    "keys = ['red', 'green', 'blue']\n",
    "values = ['#FF0000', '#008000', '#0000FF']\n",
    "\n",
    "color_dictionary = dict(zip(keys, values))\n",
    "\n",
    "print(color_dictionary)"
   ]
  },
  {
   "cell_type": "markdown",
   "metadata": {},
   "source": [
    "20. Write a Python program to get the maximum and minimum values of a dictionary."
   ]
  },
  {
   "cell_type": "code",
   "execution_count": 43,
   "metadata": {},
   "outputs": [
    {
     "name": "stdout",
     "output_type": "stream",
     "text": [
      "Maximum Value:  5874\n",
      "Minimum Value:  500\n"
     ]
    }
   ],
   "source": [
    "my_dict = {'x': 500, 'y': 5874, 'z': 560}\n",
    "\n",
    "key_max = max(my_dict.keys(), key=(lambda k: my_dict[k]))\n",
    "key_min = min(my_dict.keys(), key=(lambda k: my_dict[k]))\n",
    "\n",
    "print('Maximum Value: ', my_dict[key_max])\n",
    "print('Minimum Value: ', my_dict[key_min])"
   ]
  }
 ],
 "metadata": {
  "kernelspec": {
   "display_name": "Python 3",
   "language": "python",
   "name": "python3"
  },
  "language_info": {
   "codemirror_mode": {
    "name": "ipython",
    "version": 3
   },
   "file_extension": ".py",
   "mimetype": "text/x-python",
   "name": "python",
   "nbconvert_exporter": "python",
   "pygments_lexer": "ipython3",
   "version": "3.11.5"
  }
 },
 "nbformat": 4,
 "nbformat_minor": 2
}
