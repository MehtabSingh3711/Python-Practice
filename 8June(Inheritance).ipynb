{
 "cells": [
  {
   "cell_type": "markdown",
   "metadata": {},
   "source": [
    "1. Single Inheritance"
   ]
  },
  {
   "cell_type": "markdown",
   "metadata": {},
   "source": [
    "###### Single inheritance is when a class inherits from only one parent class."
   ]
  },
  {
   "cell_type": "code",
   "execution_count": 1,
   "metadata": {},
   "outputs": [
    {
     "name": "stdout",
     "output_type": "stream",
     "text": [
      "This is a method in the parent class.\n",
      "This is a method in the child class.\n"
     ]
    }
   ],
   "source": [
    "class Parent:\n",
    "    def parent_method(self):\n",
    "        print(\"This is a method in the parent class.\")\n",
    "\n",
    "class Child(Parent):\n",
    "    def child_method(self):\n",
    "        print(\"This is a method in the child class.\")\n",
    "\n",
    "# Usage\n",
    "child = Child()\n",
    "child.parent_method()  # Inherited from Parent\n",
    "child.child_method()   # Defined in Child\n"
   ]
  },
  {
   "cell_type": "markdown",
   "metadata": {},
   "source": [
    "2. Multiple Inheritance"
   ]
  },
  {
   "cell_type": "markdown",
   "metadata": {},
   "source": [
    "###### Multiple inheritance is when a class can inherit from more than one parent class."
   ]
  },
  {
   "cell_type": "code",
   "execution_count": 3,
   "metadata": {},
   "outputs": [
    {
     "name": "stdout",
     "output_type": "stream",
     "text": [
      "This is a method in parent1.\n",
      "This is a method in parent2.\n",
      "This is a method in the child class.\n"
     ]
    }
   ],
   "source": [
    "class Parent1:\n",
    "    def parent1_method(self):\n",
    "        print(\"This is a method in parent1.\")\n",
    "\n",
    "class Parent2:\n",
    "    def parent2_method(self):\n",
    "        print(\"This is a method in parent2.\")\n",
    "\n",
    "class Child(Parent1, Parent2):\n",
    "    def child_method(self):\n",
    "        print(\"This is a method in the child class.\")\n",
    "\n",
    "# Usage\n",
    "child = Child()\n",
    "child.parent1_method()  # Inherited from Parent1\n",
    "child.parent2_method()  # Inherited from Parent2\n",
    "child.child_method()    # Defined in Child\n"
   ]
  },
  {
   "cell_type": "markdown",
   "metadata": {},
   "source": [
    "3. Multilevel Inheritance"
   ]
  },
  {
   "cell_type": "markdown",
   "metadata": {},
   "source": [
    "###### Multilevel inheritance is when a class inherits from a parent class, which in turn inherits from another parent class."
   ]
  },
  {
   "cell_type": "code",
   "execution_count": 4,
   "metadata": {},
   "outputs": [
    {
     "name": "stdout",
     "output_type": "stream",
     "text": [
      "This is a method in the grandparent class.\n",
      "This is a method in the parent class.\n",
      "This is a method in the child class.\n"
     ]
    }
   ],
   "source": [
    "class Grandparent:\n",
    "    def grandparent_method(self):\n",
    "        print(\"This is a method in the grandparent class.\")\n",
    "\n",
    "class Parent(Grandparent):\n",
    "    def parent_method(self):\n",
    "        print(\"This is a method in the parent class.\")\n",
    "\n",
    "class Child(Parent):\n",
    "    def child_method(self):\n",
    "        print(\"This is a method in the child class.\")\n",
    "\n",
    "# Usage\n",
    "child = Child()\n",
    "child.grandparent_method()  # Inherited from Grandparent\n",
    "child.parent_method()       # Inherited from Parent\n",
    "child.child_method()        # Defined in Child\n"
   ]
  },
  {
   "cell_type": "markdown",
   "metadata": {},
   "source": [
    "4. Hierarchical Inheritance\n"
   ]
  },
  {
   "cell_type": "markdown",
   "metadata": {},
   "source": [
    "###### Hierarchical inheritance is when multiple classes inherit from a single parent class.\n",
    "\n"
   ]
  },
  {
   "cell_type": "code",
   "execution_count": 5,
   "metadata": {},
   "outputs": [
    {
     "name": "stdout",
     "output_type": "stream",
     "text": [
      "This is a method in the parent class.\n",
      "This is a method in child1.\n",
      "This is a method in the parent class.\n",
      "This is a method in child2.\n"
     ]
    }
   ],
   "source": [
    "class Parent:\n",
    "    def parent_method(self):\n",
    "        print(\"This is a method in the parent class.\")\n",
    "\n",
    "class Child1(Parent):\n",
    "    def child1_method(self):\n",
    "        print(\"This is a method in child1.\")\n",
    "\n",
    "class Child2(Parent):\n",
    "    def child2_method(self):\n",
    "        print(\"This is a method in child2.\")\n",
    "\n",
    "# Usage\n",
    "child1 = Child1()\n",
    "child1.parent_method()  # Inherited from Parent\n",
    "child1.child1_method()  # Defined in Child1\n",
    "\n",
    "child2 = Child2()\n",
    "child2.parent_method()  # Inherited from Parent\n",
    "child2.child2_method()  # Defined in Child2\n"
   ]
  },
  {
   "cell_type": "markdown",
   "metadata": {},
   "source": [
    "5. Hybrid Inheritance\n"
   ]
  },
  {
   "cell_type": "markdown",
   "metadata": {},
   "source": [
    "###### Hybrid inheritance is a combination of two or more types of inheritance. It can be a mix of hierarchical, multilevel, and multiple inheritance."
   ]
  },
  {
   "cell_type": "code",
   "execution_count": 6,
   "metadata": {},
   "outputs": [
    {
     "name": "stdout",
     "output_type": "stream",
     "text": [
      "This is a method in the base class.\n",
      "This is a method in parent1.\n",
      "This is a method in parent2.\n",
      "This is a method in the child class.\n"
     ]
    }
   ],
   "source": [
    "class Base:\n",
    "    def base_method(self):\n",
    "        print(\"This is a method in the base class.\")\n",
    "\n",
    "class Parent1(Base):\n",
    "    def parent1_method(self):\n",
    "        print(\"This is a method in parent1.\")\n",
    "\n",
    "class Parent2(Base):\n",
    "    def parent2_method(self):\n",
    "        print(\"This is a method in parent2.\")\n",
    "\n",
    "class Child(Parent1, Parent2):\n",
    "    def child_method(self):\n",
    "        print(\"This is a method in the child class.\")\n",
    "\n",
    "# Usage\n",
    "child = Child()\n",
    "child.base_method()     # Inherited from Base\n",
    "child.parent1_method()  # Inherited from Parent1\n",
    "child.parent2_method()  # Inherited from Parent2\n",
    "child.child_method()    # Defined in Child\n"
   ]
  }
 ],
 "metadata": {
  "kernelspec": {
   "display_name": "Python 3",
   "language": "python",
   "name": "python3"
  },
  "language_info": {
   "codemirror_mode": {
    "name": "ipython",
    "version": 3
   },
   "file_extension": ".py",
   "mimetype": "text/x-python",
   "name": "python",
   "nbconvert_exporter": "python",
   "pygments_lexer": "ipython3",
   "version": "3.11.5"
  }
 },
 "nbformat": 4,
 "nbformat_minor": 2
}
